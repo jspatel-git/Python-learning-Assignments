{
 "cells": [
  {
   "cell_type": "code",
   "execution_count": 1,
   "metadata": {},
   "outputs": [],
   "source": [
    "#Write a function to compute 5/0 and use try/except to catch the exceptions"
   ]
  },
  {
   "cell_type": "code",
   "execution_count": 10,
   "metadata": {},
   "outputs": [],
   "source": [
    "def divide_int():\n",
    "    try:\n",
    "        a = int(input(\"Enter random numerator: \"))\n",
    "        b = int(input(\"Enter random denominator: \"))\n",
    "        print(a / b)\n",
    "    except ZeroDivisionError:\n",
    "        print(\"Enter a denominator except zero\")\n",
    "    except ValueError:\n",
    "        print(\"Put only integers\")"
   ]
  },
  {
   "cell_type": "code",
   "execution_count": 11,
   "metadata": {},
   "outputs": [
    {
     "name": "stdout",
     "output_type": "stream",
     "text": [
      "Enter random numerator: 5\n",
      "Enter random denominator: 0\n",
      "Enter a denominator except zero\n"
     ]
    }
   ],
   "source": [
    "divide_int()"
   ]
  },
  {
   "cell_type": "code",
   "execution_count": 8,
   "metadata": {},
   "outputs": [],
   "source": [
    "#Implement a Python program to generate all sentences where subject is in [\"Americans\",\n",
    "#\"Indians\"] and verb is in [\"Play\", \"watch\"] and the object is in [\"Baseball\",\"cricket\"]."
   ]
  },
  {
   "cell_type": "code",
   "execution_count": 15,
   "metadata": {},
   "outputs": [
    {
     "name": "stdout",
     "output_type": "stream",
     "text": [
      "Americans  play Baseball.\n",
      "Americans  play Cricket.\n",
      "Americans  watch Baseball.\n",
      "Americans  watch Cricket.\n",
      "Indians play Baseball.\n",
      "Indians play Cricket.\n",
      "Indians watch Baseball.\n",
      "Indians watch Cricket.\n"
     ]
    }
   ],
   "source": [
    "subject = [\"Americans \",\"Indians\"] \n",
    "verb = [\"play\",\"watch\"] \n",
    "objects = [\"Baseball\",\"Cricket\"] \n",
    " \n",
    "sentences = [(s + \" \" + v + \" \" + o + \".\") for s in subject for v in verb for o in objects]\n",
    "for sentence in sentences:\n",
    "    print (sentence)"
   ]
  },
  {
   "cell_type": "code",
   "execution_count": 16,
   "metadata": {},
   "outputs": [],
   "source": [
    "#Write a function so that the columns of the output matrix are powers of the input vector. The order of the powers is \n",
    "#determined by the increasing boolean argument. Specifically, when increasing is False, the i-th output column is \n",
    "#the input vector raised element-wise to the power of N - i - 1."
   ]
  },
  {
   "cell_type": "code",
   "execution_count": 17,
   "metadata": {},
   "outputs": [
    {
     "name": "stdout",
     "output_type": "stream",
     "text": [
      "Enter number: 5\n",
      "Enter the range: 9\n"
     ]
    },
    {
     "data": {
      "text/plain": [
       "array([[390625,  78125,  15625,   3125,    625,    125,     25,      5,\n",
       "             1]], dtype=int32)"
      ]
     },
     "execution_count": 17,
     "metadata": {},
     "output_type": "execute_result"
    }
   ],
   "source": [
    "import numpy as np\n",
    "numbers = [int(n) for n in input(\"Enter number: \").split(',')]\n",
    "x = np.array(numbers)\n",
    "N = int(input(\"Enter the range: \"))\n",
    "np.column_stack([x**(N-i-1) for i in range(N)])"
   ]
  }
 ],
 "metadata": {
  "kernelspec": {
   "display_name": "Python 3",
   "language": "python",
   "name": "python3"
  },
  "language_info": {
   "codemirror_mode": {
    "name": "ipython",
    "version": 3
   },
   "file_extension": ".py",
   "mimetype": "text/x-python",
   "name": "python",
   "nbconvert_exporter": "python",
   "pygments_lexer": "ipython3",
   "version": "3.7.6"
  }
 },
 "nbformat": 4,
 "nbformat_minor": 4
}
